{
 "cells": [
  {
   "cell_type": "code",
   "execution_count": 1,
   "metadata": {},
   "outputs": [],
   "source": [
    "%matplotlib inline"
   ]
  },
  {
   "cell_type": "code",
   "execution_count": 2,
   "metadata": {},
   "outputs": [],
   "source": [
    "from halotools.sim_manager import CachedHaloCatalog\n",
    "halocat = CachedHaloCatalog(simname='bolplanck')\n",
    "\n",
    "cenmask = halocat.halo_table['halo_upid'] == -1\n",
    "halos = halocat.halo_table[cenmask]\n",
    "mass_mask0 = (halos['halo_mpeak'] >= 10**11.25) & (halos['halo_mpeak'] < 10**11.5)\n",
    "mass_mask1 = (halos['halo_mpeak'] >= 10**11.9) & (halos['halo_mpeak'] < 10**12.1)\n",
    "mass_mask2 = (halos['halo_mpeak'] >= 10**12.8) & (halos['halo_mpeak'] < 10**13.2)\n",
    "mass_mask3 = (halos['halo_mpeak'] >= 10**13.75) & (halos['halo_mpeak'] < 10**15.5)"
   ]
  },
  {
   "cell_type": "code",
   "execution_count": 3,
   "metadata": {},
   "outputs": [],
   "source": [
    "ratio_floor = 0.05\n",
    "halos['halo_b_to_a'] = np.where(halos['halo_b_to_a'] < ratio_floor, \n",
    "                                ratio_floor, halos['halo_b_to_a'])\n",
    "halos['halo_c_to_a'] = np.where(halos['halo_c_to_a'] < ratio_floor, \n",
    "                                ratio_floor, halos['halo_c_to_a'])\n",
    "halos['halo_c_to_a'] = np.where(halos['halo_c_to_a'] > halos['halo_b_to_a'],\n",
    "                               halos['halo_b_to_a'], halos['halo_c_to_a'])\n",
    "halos['halo_c_to_b'] = halos['halo_c_to_a']/halos['halo_b_to_a']\n",
    "\n",
    "halos['evec_norm'] = 1. + halos['halo_b_to_a']**2 + halos['halo_c_to_a']**2\n",
    "\n",
    "halos['ellipticity'] = (1. - halos['halo_c_to_a']**2)/(2.*halos['evec_norm'])\n",
    "halos['prolaticity'] = (1. - 2*halos['halo_b_to_a']**2 + halos['halo_c_to_a']**2)/(\n",
    "    2.*halos['evec_norm'])\n"
   ]
  },
  {
   "cell_type": "code",
   "execution_count": null,
   "metadata": {},
   "outputs": [],
   "source": []
  },
  {
   "cell_type": "code",
   "execution_count": 4,
   "metadata": {},
   "outputs": [],
   "source": [
    "# from axis_ratio_model import monte_carlo_c_to_b\n",
    "\n",
    "# model_c_to_b = monte_carlo_c_to_b(np.log10(halos['halo_mpeak']))\n",
    "\n",
    "# fig, ax = plt.subplots(1, 1)\n",
    "# rbins = np.linspace(-0.1, 1.1, 100)\n",
    "\n",
    "# mask = mass_mask0\n",
    "# __=ax.hist(halos['halo_c_to_b'][mask], bins=rbins, density=True, alpha=0.8, color=mblue)\n",
    "# __=ax.hist(model_c_to_b[mask], bins=rbins, density=True, alpha=0.8, color=mpurple)\n",
    "\n",
    "# mask = mass_mask3\n",
    "# __=ax.hist(halos['halo_c_to_b'][mask], bins=rbins, density=True, alpha=0.8, color=morange)\n",
    "# __=ax.hist(model_c_to_b[mask], bins=rbins, density=True, alpha=0.8, color=mred)\n"
   ]
  },
  {
   "cell_type": "code",
   "execution_count": null,
   "metadata": {},
   "outputs": [],
   "source": []
  },
  {
   "cell_type": "code",
   "execution_count": 5,
   "metadata": {},
   "outputs": [],
   "source": [
    "from axis_ratio_model import monte_carlo_halo_shapes\n",
    "b_to_a, c_to_a, e, p = monte_carlo_halo_shapes(np.log10(halos['halo_mpeak']))\n",
    "halos['model_b_to_a'] = b_to_a\n",
    "halos['model_c_to_a'] = c_to_a\n",
    "halos['model_ellipticity'] = e\n",
    "halos['model_prolaticity'] = p"
   ]
  },
  {
   "cell_type": "code",
   "execution_count": null,
   "metadata": {},
   "outputs": [],
   "source": []
  },
  {
   "cell_type": "code",
   "execution_count": null,
   "metadata": {},
   "outputs": [],
   "source": []
  },
  {
   "cell_type": "code",
   "execution_count": 14,
   "metadata": {},
   "outputs": [
    {
     "data": {
      "image/png": "[encoded data removed]",
      "text/plain": [
       "<Figure size 432x288 with 1 Axes>"
      ]
     },
     "metadata": {
      "needs_background": "light"
     },
     "output_type": "display_data"
    }
   ],
   "source": [
    "fig, ax = plt.subplots(1, 1)\n",
    "rbins = np.linspace(-0.1, 1.1, 100)\n",
    "\n",
    "mask = mass_mask3\n",
    "__=ax.hist(halos['halo_b_to_a'][mask], bins=rbins, density=True, alpha=0.8, color=mblue)\n",
    "__=ax.hist(halos['model_b_to_a'][mask], bins=rbins, density=True, alpha=0.8, color=mpurple)\n"
   ]
  },
  {
   "cell_type": "code",
   "execution_count": 15,
   "metadata": {},
   "outputs": [
    {
     "data": {
      "image/png": "[encoded data removed]",
      "text/plain": [
       "<Figure size 432x288 with 1 Axes>"
      ]
     },
     "metadata": {
      "needs_background": "light"
     },
     "output_type": "display_data"
    }
   ],
   "source": [
    "fig, ax = plt.subplots(1, 1)\n",
    "mask = mass_mask3\n",
    "__=ax.scatter(halos['halo_b_to_a'][mask], halos['halo_c_to_a'][mask], s=0.1)\n",
    "__=ax.scatter(halos['model_b_to_a'][mask], halos['model_c_to_a'][mask], s=0.1)"
   ]
  },
  {
   "cell_type": "code",
   "execution_count": null,
   "metadata": {},
   "outputs": [],
   "source": [
    "# halos['model_evec_norm'] = 1. + halos['model_b_to_a']**2 + halos['model_c_to_a']**2\n",
    "# halos['model_ellipticity'] = (1. - halos['model_c_to_a']**2)/(2.*halos['model_evec_norm'])\n",
    "# halos['model_prolaticity'] = (1. - 2*halos['model_b_to_a']**2 + halos['model_c_to_a']**2)/(\n",
    "#     2.*halos['model_evec_norm'])\n"
   ]
  },
  {
   "cell_type": "code",
   "execution_count": null,
   "metadata": {},
   "outputs": [],
   "source": [
    "fig, ax = plt.subplots(1, 1)\n",
    "rbins = np.linspace(-0.1, 1.1, 100)\n",
    "\n",
    "mask = mass_mask3\n",
    "__=ax.hist(halos['ellipticity'][mask], bins=rbins, density=True, alpha=0.8, color=mblue)\n",
    "__=ax.hist(halos['model_ellipticity'][mask], \n",
    "           bins=rbins, density=True, alpha=0.8, color=mpurple)\n"
   ]
  },
  {
   "cell_type": "code",
   "execution_count": null,
   "metadata": {},
   "outputs": [],
   "source": [
    "fig, ax = plt.subplots(1, 1)\n",
    "rbins = np.linspace(-0.1, 1.1, 100)\n",
    "\n",
    "mask = mass_mask1\n",
    "__=ax.hist(halos['prolaticity'][mask], bins=rbins, density=True, alpha=0.8, color=mblue)\n",
    "__=ax.hist(halos['model_prolaticity'][mask], \n",
    "           bins=rbins, density=True, alpha=0.8, color=mpurple)\n"
   ]
  },
  {
   "cell_type": "code",
   "execution_count": null,
   "metadata": {},
   "outputs": [],
   "source": [
    "halos['model_ellipticity'].min(), halos['model_ellipticity'].max()"
   ]
  },
  {
   "cell_type": "code",
   "execution_count": null,
   "metadata": {},
   "outputs": [],
   "source": [
    "halos['model_prolaticity'].min(), halos['model_prolaticity'].max()"
   ]
  },
  {
   "cell_type": "code",
   "execution_count": null,
   "metadata": {},
   "outputs": [],
   "source": []
  }
 ],
 "metadata": {
  "kernelspec": {
   "display_name": "Python 3",
   "language": "python",
   "name": "python3"
  },
  "language_info": {
   "codemirror_mode": {
    "name": "ipython",
    "version": 3
   },
   "file_extension": ".py",
   "mimetype": "text/x-python",
   "name": "python",
   "nbconvert_exporter": "python",
   "pygments_lexer": "ipython3",
   "version": "3.7.3"
  }
 },
 "nbformat": 4,
 "nbformat_minor": 2
}
